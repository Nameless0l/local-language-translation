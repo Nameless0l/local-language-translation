{
 "cells": [
  {
   "cell_type": "code",
   "execution_count": 1,
   "metadata": {},
   "outputs": [],
   "source": [
    "import pdfplumber"
   ]
  },
  {
   "cell_type": "code",
   "execution_count": null,
   "metadata": {},
   "outputs": [],
   "source": [
    "pdf = pdfplumber.open('./DICTIONNAIRE_GHOMALA.pdf')\n",
    "\n",
    "crop_coord_left = [0, 50, 595/2 + 10, 760]\n",
    "crop_coord_right = [595/2 + 10, 50, 595, 760]\n",
    "\n",
    "page_crop_left = pdf.pages[1].crop(bbox=tuple(crop_coord_left))\n",
    "page_crop_right = pdf.pages[1].crop(bbox=tuple(crop_coord_right))\n",
    "\n",
    "page1_text = pdf.pages[0].filter(lambda obj : obj[\"object_type\"] == 'char').extract_text()\n",
    "with open('out_temp.json', mode='w', encoding='utf-8') as tmp:\n",
    "    pdf.pages[0].to_json(tmp)\n",
    "# with open(\"text.txt\", mode=\"w\", encoding='utf-8') as text_out:\n",
    "    # for i in range(1, 56)"
   ]
  },
  {
   "cell_type": "code",
   "execution_count": null,
   "metadata": {},
   "outputs": [],
   "source": [
    "alphabet = set()\n",
    "lower = [\"a\",\"b\",\"c\",\"d\",\"e\",\"f\",\"g\",\"h\",\"i\",\"j\",\"k\",\"l\",\"m\",\"n\",\"o\",\"p\",\"k\",\"r\",\"s\",\"t\",\"u\",\"v\",\"w\",\"x\",\"y\",\"z\"]\n",
    "upper = ['A', 'B', 'C', 'D', 'E', 'F', 'G', 'H', 'I', 'J', 'K', 'L', 'M', 'N', 'O', 'P', 'K', 'R', 'S', 'T', 'U', 'V', 'W', 'X', 'Y', 'Z']\n",
    "\n",
    "with open('./eton_final_preprocessed.txt', mode='r', encoding='utf-8') as text_in:\n",
    "    lines = text_in.readlines()\n",
    "    for line in lines:\n",
    "        part = line.split('\\t')\n",
    "        try:\n",
    "            for letter in part[1]:\n",
    "                if letter not in lower and letter not in upper and not letter.isnumeric() and letter !='-':\n",
    "                    alphabet.add(letter)\n",
    "        except IndexError:\n",
    "            pass\n",
    "\n",
    "print(alphabet)\n"
   ]
  },
  {
   "cell_type": "code",
   "execution_count": 16,
   "metadata": {},
   "outputs": [],
   "source": [
    "alphabet2 = ['á', 'Ǒ', 'ɔ ́', 'ǝ ̌', 'ɔ', 'Â', 'ǝ', 'é', 'ǎ' 'â', 'ŋ', 'û', 'ì', '’', 'u ́', 'ò', '̀ɛ', '́ɛ', 'ɔ ̌', 'à', 'ɔ’', '́ǝ', '̌ǝ', 'ǎ', 'ê', 'u', 'u ̌', 'ɛ', 'î']"
   ]
  },
  {
   "cell_type": "code",
   "execution_count": 15,
   "metadata": {},
   "outputs": [
    {
     "data": {
      "text/plain": [
       "'Ǒ'"
      ]
     },
     "execution_count": 15,
     "metadata": {},
     "output_type": "execute_result"
    }
   ],
   "source": [
    "'ǒ'.upper()"
   ]
  }
 ],
 "metadata": {
  "kernelspec": {
   "display_name": "Python 3",
   "language": "python",
   "name": "python3"
  },
  "language_info": {
   "codemirror_mode": {
    "name": "ipython",
    "version": 3
   },
   "file_extension": ".py",
   "mimetype": "text/x-python",
   "name": "python",
   "nbconvert_exporter": "python",
   "pygments_lexer": "ipython3",
   "version": "3.10.7"
  },
  "orig_nbformat": 4,
  "vscode": {
   "interpreter": {
    "hash": "67e0cbc25fa4f5baaacba1240f401bc655b640f8e15cfc935dfee2e63491bdf4"
   }
  }
 },
 "nbformat": 4,
 "nbformat_minor": 2
}
